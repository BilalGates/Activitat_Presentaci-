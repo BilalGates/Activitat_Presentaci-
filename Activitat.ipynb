{
 "cells": [
  {
   "cell_type": "markdown",
   "metadata": {},
   "source": [
    "# PREPARACIÓ\n",
    "Identificar dades mancants i duplicats"
   ]
  },
  {
   "cell_type": "code",
   "execution_count": 1,
   "metadata": {},
   "outputs": [
    {
     "name": "stdout",
     "output_type": "stream",
     "text": [
      "Poster_Link        0\n",
      "Series_Title       0\n",
      "Released_Year      0\n",
      "Certificate      101\n",
      "Runtime            0\n",
      "Genre              0\n",
      "IMDB_Rating        0\n",
      "Overview           0\n",
      "Meta_score       157\n",
      "Director           0\n",
      "Star1              0\n",
      "Star2              0\n",
      "Star3              0\n",
      "Star4              0\n",
      "No_of_Votes        0\n",
      "Gross            169\n",
      "dtype: int64\n",
      "Nombre de files duplicades: 0\n"
     ]
    }
   ],
   "source": [
    "import pandas as pd\n",
    "\n",
    "# Cargar el dataset\n",
    "df = pd.read_csv('imdb_top_1000.csv')\n",
    "\n",
    "# Comprovar si hi ha dades mancants\n",
    "print(df.isnull().sum())\n",
    "\n",
    "# Comprovar si hi ha duplicats\n",
    "duplicats = df.duplicated().sum()\n",
    "print(f\"Nombre de files duplicades: {duplicats}\")"
   ]
  },
  {
   "cell_type": "markdown",
   "metadata": {},
   "source": [
    "Hem trobat que hi ha dades mancants en 3 columnes les esborrem i tornem a veure si existeixen."
   ]
  },
  {
   "cell_type": "code",
   "execution_count": 2,
   "metadata": {},
   "outputs": [
    {
     "name": "stdout",
     "output_type": "stream",
     "text": [
      "Poster_Link      0\n",
      "Series_Title     0\n",
      "Released_Year    0\n",
      "Certificate      0\n",
      "Runtime          0\n",
      "Genre            0\n",
      "IMDB_Rating      0\n",
      "Overview         0\n",
      "Meta_score       0\n",
      "Director         0\n",
      "Star1            0\n",
      "Star2            0\n",
      "Star3            0\n",
      "Star4            0\n",
      "No_of_Votes      0\n",
      "Gross            0\n",
      "dtype: int64\n"
     ]
    }
   ],
   "source": [
    "# Eliminar files amb valors nuls\n",
    "df = df.dropna()\n",
    "\n",
    "# Comprovar si hi ha dades mancants\n",
    "print(df.isnull().sum())"
   ]
  },
  {
   "cell_type": "markdown",
   "metadata": {},
   "source": [
    "# ESTADÍSTICA DESCRIPTIVA\n",
    "\n",
    "Utilitzarem la funció `describe()` de **pandas**, obtenim un resum estadístic amb les següents mètriques:\n",
    "\n",
    "## 1. `count`\n",
    "- Nombre de valors no nuls en cada columna.\n",
    "- Útil per identificar dades mancants.\n",
    "\n",
    "## 2. `mean` (Mitjana)\n",
    "- Mitjana aritmètica dels valors en la columna.\n",
    "- Es calcula sumant tots els valors i dividint pel nombre total.\n",
    "\n",
    "## 3. `std` (Desviació Estàndard)\n",
    "- Mesura la dispersió dels valors al voltant de la mitjana.\n",
    "- Una desviació estàndard alta indica valors més dispersos; una baixa indica concentració.\n",
    "\n",
    "## 4. `min` (Valor mínim)\n",
    "- Valor més petit de la columna.\n",
    "- Pot ajudar a identificar valors extrems (outliers).\n",
    "\n",
    "## 5. `25%` (Primer Quartil)\n",
    "- Valor per sota del qual es troba el 25% dels valors.\n",
    "- Representa el límit inferior del **quartil inferior**.\n",
    "\n",
    "## 6. `50%` (Mediana)\n",
    "- Valor central que divideix les dades en dues meitats.\n",
    "- És menys sensible als valors extrems que la mitjana.\n",
    "\n",
    "## 7. `75%` (Tercer Quartil)\n",
    "- Valor per sota del qual es troba el 75% dels valors.\n",
    "- Representa el límit inferior del **quartil superior**.\n",
    "\n",
    "## 8. `max` (Valor màxim)\n",
    "- Valor més gran de la columna.\n",
    "- Pot ajudar a identificar possibles valors extrems."
   ]
  },
  {
   "cell_type": "code",
   "execution_count": null,
   "metadata": {},
   "outputs": [
    {
     "data": {
      "text/html": [
       "<div>\n",
       "<style scoped>\n",
       "    .dataframe tbody tr th:only-of-type {\n",
       "        vertical-align: middle;\n",
       "    }\n",
       "\n",
       "    .dataframe tbody tr th {\n",
       "        vertical-align: top;\n",
       "    }\n",
       "\n",
       "    .dataframe thead th {\n",
       "        text-align: right;\n",
       "    }\n",
       "</style>\n",
       "<table border=\"1\" class=\"dataframe\">\n",
       "  <thead>\n",
       "    <tr style=\"text-align: right;\">\n",
       "      <th></th>\n",
       "      <th>IMDB_Rating</th>\n",
       "      <th>Runtime</th>\n",
       "      <th>Meta_score</th>\n",
       "      <th>No_of_Votes</th>\n",
       "      <th>Gross</th>\n",
       "    </tr>\n",
       "  </thead>\n",
       "  <tbody>\n",
       "    <tr>\n",
       "      <th>count</th>\n",
       "      <td>714.000000</td>\n",
       "      <td>714.000000</td>\n",
       "      <td>714.000000</td>\n",
       "      <td>7.140000e+02</td>\n",
       "      <td>7.140000e+02</td>\n",
       "    </tr>\n",
       "    <tr>\n",
       "      <th>mean</th>\n",
       "      <td>7.937115</td>\n",
       "      <td>123.715686</td>\n",
       "      <td>77.158263</td>\n",
       "      <td>3.561348e+05</td>\n",
       "      <td>7.851359e+07</td>\n",
       "    </tr>\n",
       "    <tr>\n",
       "      <th>std</th>\n",
       "      <td>0.293278</td>\n",
       "      <td>25.887535</td>\n",
       "      <td>12.401144</td>\n",
       "      <td>3.539011e+05</td>\n",
       "      <td>1.149780e+08</td>\n",
       "    </tr>\n",
       "    <tr>\n",
       "      <th>min</th>\n",
       "      <td>7.600000</td>\n",
       "      <td>72.000000</td>\n",
       "      <td>28.000000</td>\n",
       "      <td>2.522900e+04</td>\n",
       "      <td>1.305000e+03</td>\n",
       "    </tr>\n",
       "    <tr>\n",
       "      <th>25%</th>\n",
       "      <td>7.700000</td>\n",
       "      <td>104.250000</td>\n",
       "      <td>70.000000</td>\n",
       "      <td>9.600975e+04</td>\n",
       "      <td>6.157408e+06</td>\n",
       "    </tr>\n",
       "    <tr>\n",
       "      <th>50%</th>\n",
       "      <td>7.900000</td>\n",
       "      <td>120.000000</td>\n",
       "      <td>78.000000</td>\n",
       "      <td>2.366025e+05</td>\n",
       "      <td>3.485015e+07</td>\n",
       "    </tr>\n",
       "    <tr>\n",
       "      <th>75%</th>\n",
       "      <td>8.100000</td>\n",
       "      <td>136.000000</td>\n",
       "      <td>86.000000</td>\n",
       "      <td>5.077922e+05</td>\n",
       "      <td>1.024641e+08</td>\n",
       "    </tr>\n",
       "    <tr>\n",
       "      <th>max</th>\n",
       "      <td>9.300000</td>\n",
       "      <td>238.000000</td>\n",
       "      <td>100.000000</td>\n",
       "      <td>2.343110e+06</td>\n",
       "      <td>9.366622e+08</td>\n",
       "    </tr>\n",
       "  </tbody>\n",
       "</table>\n",
       "</div>"
      ],
      "text/plain": [
       "       IMDB_Rating     Runtime  Meta_score   No_of_Votes         Gross\n",
       "count   714.000000  714.000000  714.000000  7.140000e+02  7.140000e+02\n",
       "mean      7.937115  123.715686   77.158263  3.561348e+05  7.851359e+07\n",
       "std       0.293278   25.887535   12.401144  3.539011e+05  1.149780e+08\n",
       "min       7.600000   72.000000   28.000000  2.522900e+04  1.305000e+03\n",
       "25%       7.700000  104.250000   70.000000  9.600975e+04  6.157408e+06\n",
       "50%       7.900000  120.000000   78.000000  2.366025e+05  3.485015e+07\n",
       "75%       8.100000  136.000000   86.000000  5.077922e+05  1.024641e+08\n",
       "max       9.300000  238.000000  100.000000  2.343110e+06  9.366622e+08"
      ]
     },
     "execution_count": 6,
     "metadata": {},
     "output_type": "execute_result"
    }
   ],
   "source": [
    "# Netejar i preparar les dades\n",
    "# Convertir 'Runtime' a numèric (eliminar ' min') i 'Gross' a numèric (eliminar comes)\n",
    "df['Runtime'] = df['Runtime'].str.replace(' min', '').astype(float)\n",
    "df['Gross'] = df['Gross'].str.replace(',', '').astype(float)\n",
    "\n",
    "# Seleccionar les columnes numèriques rellevants per a l'anàlisi\n",
    "numerical_data = df[['IMDB_Rating', 'Runtime', 'Meta_score', 'No_of_Votes', 'Gross']]\n",
    "\n",
    "# Calcular estadístiques descriptives\n",
    "descriptive_stats = numerical_data.describe()\n",
    "\n",
    "# Imprimir estadístiques descriptives\n",
    "descriptive_stats"
   ]
  },
  {
   "cell_type": "markdown",
   "metadata": {},
   "source": []
  }
 ],
 "metadata": {
  "kernelspec": {
   "display_name": "base",
   "language": "python",
   "name": "python3"
  },
  "language_info": {
   "codemirror_mode": {
    "name": "ipython",
    "version": 3
   },
   "file_extension": ".py",
   "mimetype": "text/x-python",
   "name": "python",
   "nbconvert_exporter": "python",
   "pygments_lexer": "ipython3",
   "version": "3.12.7"
  }
 },
 "nbformat": 4,
 "nbformat_minor": 2
}
